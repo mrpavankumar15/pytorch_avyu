{
  "nbformat": 4,
  "nbformat_minor": 0,
  "metadata": {
    "colab": {
      "provenance": [],
      "authorship_tag": "ABX9TyMVeuu68TGUOkZAFWDJDRsz",
      "include_colab_link": true
    },
    "kernelspec": {
      "name": "python3",
      "display_name": "Python 3"
    },
    "language_info": {
      "name": "python"
    }
  },
  "cells": [
    {
      "cell_type": "markdown",
      "metadata": {
        "id": "view-in-github",
        "colab_type": "text"
      },
      "source": [
        "<a href=\"https://colab.research.google.com/github/mrpavankumar15/pytorch_avyu/blob/main/Pytorch_fundamental.ipynb\" target=\"_parent\"><img src=\"https://colab.research.google.com/assets/colab-badge.svg\" alt=\"Open In Colab\"/></a>"
      ]
    },
    {
      "cell_type": "code",
      "source": [
        "!nvidia-smi"
      ],
      "metadata": {
        "colab": {
          "base_uri": "https://localhost:8080/"
        },
        "id": "D8-nxVyT752A",
        "outputId": "866d525d-14ec-4798-f2c1-0860d2ef0ac7"
      },
      "execution_count": null,
      "outputs": [
        {
          "output_type": "stream",
          "name": "stdout",
          "text": [
            "Wed Aug  6 15:12:29 2025       \n",
            "+-----------------------------------------------------------------------------------------+\n",
            "| NVIDIA-SMI 550.54.15              Driver Version: 550.54.15      CUDA Version: 12.4     |\n",
            "|-----------------------------------------+------------------------+----------------------+\n",
            "| GPU  Name                 Persistence-M | Bus-Id          Disp.A | Volatile Uncorr. ECC |\n",
            "| Fan  Temp   Perf          Pwr:Usage/Cap |           Memory-Usage | GPU-Util  Compute M. |\n",
            "|                                         |                        |               MIG M. |\n",
            "|=========================================+========================+======================|\n",
            "|   0  Tesla T4                       Off |   00000000:00:04.0 Off |                    0 |\n",
            "| N/A   55C    P8             10W /   70W |       0MiB /  15360MiB |      0%      Default |\n",
            "|                                         |                        |                  N/A |\n",
            "+-----------------------------------------+------------------------+----------------------+\n",
            "                                                                                         \n",
            "+-----------------------------------------------------------------------------------------+\n",
            "| Processes:                                                                              |\n",
            "|  GPU   GI   CI        PID   Type   Process name                              GPU Memory |\n",
            "|        ID   ID                                                               Usage      |\n",
            "|=========================================================================================|\n",
            "|  No running processes found                                                             |\n",
            "+-----------------------------------------------------------------------------------------+\n"
          ]
        }
      ]
    },
    {
      "cell_type": "markdown",
      "source": [
        "print(\"hello i am pavan for pytorch\")"
      ],
      "metadata": {
        "id": "otL50_T250fg"
      }
    },
    {
      "cell_type": "code",
      "source": [
        "## pytorch fundamentals ##"
      ],
      "metadata": {
        "id": "Bka7g9Ar8eps"
      },
      "execution_count": null,
      "outputs": []
    },
    {
      "cell_type": "code",
      "source": [
        "import torch\n",
        "import pandas as pd\n",
        "import numpy as np\n",
        "import matplotlib.pyplot as plt\n",
        "print(torch.__version__)"
      ],
      "metadata": {
        "colab": {
          "base_uri": "https://localhost:8080/"
        },
        "id": "RDUDx8qFANlV",
        "outputId": "0ab0faae-7268-4eba-fee4-7ec56775bef2"
      },
      "execution_count": 2,
      "outputs": [
        {
          "output_type": "stream",
          "name": "stdout",
          "text": [
            "2.6.0+cu124\n"
          ]
        }
      ]
    },
    {
      "cell_type": "code",
      "source": [
        "## introduction to tensors\n",
        "## the tensors are created using torch.tensor()\n",
        "## scalar - type\n",
        "scalar = torch.tensor(7)\n",
        "scalar"
      ],
      "metadata": {
        "colab": {
          "base_uri": "https://localhost:8080/"
        },
        "id": "e0626Aa8BvkL",
        "outputId": "ae55d11b-354d-45dd-84ba-6b659e4c7f4d"
      },
      "execution_count": null,
      "outputs": [
        {
          "output_type": "execute_result",
          "data": {
            "text/plain": [
              "tensor(7)"
            ]
          },
          "metadata": {},
          "execution_count": 2
        }
      ]
    },
    {
      "cell_type": "code",
      "source": [
        " scalar.ndim"
      ],
      "metadata": {
        "colab": {
          "base_uri": "https://localhost:8080/"
        },
        "id": "Hq5ZQ1ypCCjT",
        "outputId": "04cc963b-f84b-4f8d-c080-3abef35457a0"
      },
      "execution_count": null,
      "outputs": [
        {
          "output_type": "execute_result",
          "data": {
            "text/plain": [
              "0"
            ]
          },
          "metadata": {},
          "execution_count": 3
        }
      ]
    },
    {
      "cell_type": "code",
      "source": [
        "# get the tensor back as python int\n",
        "scalar.item()"
      ],
      "metadata": {
        "colab": {
          "base_uri": "https://localhost:8080/"
        },
        "id": "rB-yuj7KC_yd",
        "outputId": "f5b549a9-448d-43b9-a255-49ab6578e800"
      },
      "execution_count": null,
      "outputs": [
        {
          "output_type": "execute_result",
          "data": {
            "text/plain": [
              "7"
            ]
          },
          "metadata": {},
          "execution_count": 4
        }
      ]
    },
    {
      "cell_type": "code",
      "source": [
        "#vector\n",
        "vector = torch.tensor([7,7])\n",
        "print(vector)\n",
        "vector.ndim"
      ],
      "metadata": {
        "colab": {
          "base_uri": "https://localhost:8080/"
        },
        "id": "YDZlo3CpDKSG",
        "outputId": "dc50fd8e-19f7-4cd6-f4f6-03b710602e2c"
      },
      "execution_count": null,
      "outputs": [
        {
          "output_type": "stream",
          "name": "stdout",
          "text": [
            "tensor([7, 7])\n"
          ]
        },
        {
          "output_type": "execute_result",
          "data": {
            "text/plain": [
              "1"
            ]
          },
          "metadata": {},
          "execution_count": 7
        }
      ]
    },
    {
      "cell_type": "code",
      "source": [
        "vector.shape"
      ],
      "metadata": {
        "colab": {
          "base_uri": "https://localhost:8080/"
        },
        "id": "JuIPtHJTDwLb",
        "outputId": "94b3c800-ddac-4d6d-daa1-26ba1aec27f9"
      },
      "execution_count": null,
      "outputs": [
        {
          "output_type": "execute_result",
          "data": {
            "text/plain": [
              "torch.Size([2])"
            ]
          },
          "metadata": {},
          "execution_count": 8
        }
      ]
    },
    {
      "cell_type": "code",
      "source": [
        "## Matrix\n",
        "matrix = torch.tensor([[2,3],[5,6]])\n",
        "print(matrix)\n",
        "print(\"size \" ,matrix.shape)\n",
        "print(\"ndim : \",matrix.ndim)\n",
        "matrix[1]"
      ],
      "metadata": {
        "colab": {
          "base_uri": "https://localhost:8080/"
        },
        "id": "Q23g-dZcETKY",
        "outputId": "7f3139d3-6d91-428f-d94d-b94cf4d0af03"
      },
      "execution_count": null,
      "outputs": [
        {
          "output_type": "stream",
          "name": "stdout",
          "text": [
            "tensor([[2, 3],\n",
            "        [5, 6]])\n",
            "size  torch.Size([2, 2])\n",
            "ndim :  2\n"
          ]
        },
        {
          "output_type": "execute_result",
          "data": {
            "text/plain": [
              "tensor([5, 6])"
            ]
          },
          "metadata": {},
          "execution_count": 11
        }
      ]
    },
    {
      "cell_type": "code",
      "source": [
        "## Tensor\n",
        "tensor = torch.tensor([[[1,2,3],[3,4,5],[4,4,4]]])\n",
        "print(\"tensor shape \" ,tensor.shape)\n",
        "print(\"ndim \", tensor.ndim)\n",
        "print(tensor)\n",
        "# print index value\n",
        "print(\"the index valued : \",tensor[0,2])\n",
        "print(\"the all values : \")\n",
        "tensor[0]\n"
      ],
      "metadata": {
        "colab": {
          "base_uri": "https://localhost:8080/"
        },
        "id": "hiBd8_U2E7VX",
        "outputId": "6bf573a0-b0b2-4da1-a7f0-72aa486b6abb"
      },
      "execution_count": null,
      "outputs": [
        {
          "output_type": "stream",
          "name": "stdout",
          "text": [
            "tensor shape  torch.Size([1, 3, 3])\n",
            "ndim  3\n",
            "tensor([[[1, 2, 3],\n",
            "         [3, 4, 5],\n",
            "         [4, 4, 4]]])\n",
            "the index valued :  tensor([4, 4, 4])\n",
            "the all values : \n"
          ]
        },
        {
          "output_type": "execute_result",
          "data": {
            "text/plain": [
              "tensor([[1, 2, 3],\n",
              "        [3, 4, 5],\n",
              "        [4, 4, 4]])"
            ]
          },
          "metadata": {},
          "execution_count": 21
        }
      ]
    },
    {
      "cell_type": "markdown",
      "source": [
        "## Random tensors\n",
        "\n",
        "why randome tensors ?\n",
        "random tensors are important because the way many neural networks learn is that they start with tensor full of random numbers and then adjust those random numbers to better representation\n",
        "\n",
        "start with random number -> look at data -> update numbers"
      ],
      "metadata": {
        "id": "XQWcZU0vIi5C"
      }
    },
    {
      "cell_type": "code",
      "source": [
        "# create random tensors of shape or size\n",
        "random_tensor = torch.rand(3,4)\n",
        "random_tensor"
      ],
      "metadata": {
        "colab": {
          "base_uri": "https://localhost:8080/"
        },
        "id": "xZfK6-vEJAiK",
        "outputId": "ef473e78-3593-465c-a1e8-b7fe01cbe131"
      },
      "execution_count": null,
      "outputs": [
        {
          "output_type": "execute_result",
          "data": {
            "text/plain": [
              "tensor([[0.5704, 0.0555, 0.3710, 0.2147],\n",
              "        [0.0863, 0.1746, 0.0141, 0.1205],\n",
              "        [0.8275, 0.4222, 0.7574, 0.1347]])"
            ]
          },
          "metadata": {},
          "execution_count": 35
        }
      ]
    },
    {
      "cell_type": "code",
      "source": [
        "random_image  =  torch.rand(size=(3,224,224))\n",
        "random_image.shape, random_image.ndim"
      ],
      "metadata": {
        "colab": {
          "base_uri": "https://localhost:8080/"
        },
        "id": "Qg_cf8ovPqPY",
        "outputId": "a1deb64c-497d-44ea-ac33-9b3d3af0ccfd"
      },
      "execution_count": null,
      "outputs": [
        {
          "output_type": "execute_result",
          "data": {
            "text/plain": [
              "(torch.Size([3, 224, 224]), 3)"
            ]
          },
          "metadata": {},
          "execution_count": 37
        }
      ]
    },
    {
      "cell_type": "code",
      "source": [
        "## create tensor with all zeros\n",
        "zeros = torch.zeros(size=(3,4))\n",
        "zeros"
      ],
      "metadata": {
        "colab": {
          "base_uri": "https://localhost:8080/"
        },
        "id": "SeZrtUYeQs6_",
        "outputId": "e7d29fc2-c252-42ab-da0b-ce0659cda8fb"
      },
      "execution_count": null,
      "outputs": [
        {
          "output_type": "execute_result",
          "data": {
            "text/plain": [
              "tensor([[0., 0., 0., 0.],\n",
              "        [0., 0., 0., 0.],\n",
              "        [0., 0., 0., 0.]])"
            ]
          },
          "metadata": {},
          "execution_count": 39
        }
      ]
    },
    {
      "cell_type": "code",
      "source": [
        "## create tensor with all ones\n",
        "ones = torch.ones(size=(3,4))\n",
        "## it tells the data type\n",
        "print(ones.dtype)\n",
        "ones"
      ],
      "metadata": {
        "colab": {
          "base_uri": "https://localhost:8080/"
        },
        "id": "XfvuVjipQ1WZ",
        "outputId": "6f261ae8-9ab6-42b7-bc01-fa77e80e6ff3"
      },
      "execution_count": null,
      "outputs": [
        {
          "output_type": "stream",
          "name": "stdout",
          "text": [
            "torch.float32\n"
          ]
        },
        {
          "output_type": "execute_result",
          "data": {
            "text/plain": [
              "tensor([[1., 1., 1., 1.],\n",
              "        [1., 1., 1., 1.],\n",
              "        [1., 1., 1., 1.]])"
            ]
          },
          "metadata": {},
          "execution_count": 40
        }
      ]
    },
    {
      "cell_type": "code",
      "source": [
        "random_tensor.dtype"
      ],
      "metadata": {
        "colab": {
          "base_uri": "https://localhost:8080/"
        },
        "id": "aeFZYS3ERNVq",
        "outputId": "9d9d8a13-d418-4668-c808-9dd98a7087a3"
      },
      "execution_count": null,
      "outputs": [
        {
          "output_type": "execute_result",
          "data": {
            "text/plain": [
              "torch.float32"
            ]
          },
          "metadata": {},
          "execution_count": 41
        }
      ]
    },
    {
      "cell_type": "code",
      "source": [
        "##range of tensors and tensors-like\n",
        "## torch.range() or torch.arange()\n",
        "torch.range(0,10)\n",
        " ## or ##\n"
      ],
      "metadata": {
        "colab": {
          "base_uri": "https://localhost:8080/"
        },
        "id": "bCeTsABRRgyb",
        "outputId": "11985cb1-ccec-4775-82c6-0519abd934aa"
      },
      "execution_count": null,
      "outputs": [
        {
          "output_type": "stream",
          "name": "stderr",
          "text": [
            "/tmp/ipython-input-302490603.py:3: UserWarning: torch.range is deprecated and will be removed in a future release because its behavior is inconsistent with Python's range builtin. Instead, use torch.arange, which produces values in [start, end).\n",
            "  torch.range(0,10)\n"
          ]
        },
        {
          "output_type": "execute_result",
          "data": {
            "text/plain": [
              "tensor([ 0.,  1.,  2.,  3.,  4.,  5.,  6.,  7.,  8.,  9., 10.])"
            ]
          },
          "metadata": {},
          "execution_count": 44
        }
      ]
    },
    {
      "cell_type": "code",
      "source": [
        "one_ten = torch.arange(1,11)\n",
        "one_ten"
      ],
      "metadata": {
        "colab": {
          "base_uri": "https://localhost:8080/"
        },
        "id": "gHnv8qf-SaWy",
        "outputId": "10d86782-6c1c-4915-d622-24f4816cb2be"
      },
      "execution_count": null,
      "outputs": [
        {
          "output_type": "execute_result",
          "data": {
            "text/plain": [
              "tensor([ 1,  2,  3,  4,  5,  6,  7,  8,  9, 10])"
            ]
          },
          "metadata": {},
          "execution_count": 46
        }
      ]
    },
    {
      "cell_type": "code",
      "source": [
        "oneTo_1000 = torch.arange(start=0 , end = 1000 , step = 100)\n",
        "oneTo_1000"
      ],
      "metadata": {
        "colab": {
          "base_uri": "https://localhost:8080/"
        },
        "id": "OPS8PLfZSm--",
        "outputId": "5624569f-6b95-4e25-a4ab-10d7692e7459"
      },
      "execution_count": null,
      "outputs": [
        {
          "output_type": "execute_result",
          "data": {
            "text/plain": [
              "tensor([  0, 100, 200, 300, 400, 500, 600, 700, 800, 900])"
            ]
          },
          "metadata": {},
          "execution_count": 48
        }
      ]
    },
    {
      "cell_type": "code",
      "source": [
        "## creating tensors like\n",
        "## use zeros_like\n",
        "ten_zeros = torch.zeros_like(input=oneTo_1000)\n",
        "ten_zeros"
      ],
      "metadata": {
        "colab": {
          "base_uri": "https://localhost:8080/"
        },
        "id": "hxcTH_CRTFTh",
        "outputId": "163f253b-dda0-416e-ea73-09104bb2651e"
      },
      "execution_count": null,
      "outputs": [
        {
          "output_type": "execute_result",
          "data": {
            "text/plain": [
              "tensor([0, 0, 0, 0, 0, 0, 0, 0, 0, 0])"
            ]
          },
          "metadata": {},
          "execution_count": 49
        }
      ]
    },
    {
      "cell_type": "markdown",
      "metadata": {
        "id": "c0a25e01"
      },
      "source": [
        "## Tensor Datatypes\n",
        "\n",
        "**Note: ** Tensor datatypes is one of the 3 big erros you'll run into with pytorch & deep learning:\n",
        "\n",
        "1.Tensors not right datatype\n",
        "\n",
        "2.Tensors not right shape\n",
        "\n",
        "3.Tensors not on the right device"
      ]
    },
    {
      "cell_type": "code",
      "source": [
        "float_32 = torch.tensor([3.0 , 6.0 , 9.0],\n",
        "                        dtype =None , #what data type is tensor\n",
        "                        device=None, #what device are you using like cpu or gpu\n",
        "                        requires_grad=False) # whether or not to track gradients with this operations\n",
        "\n",
        "\n",
        "float_32"
      ],
      "metadata": {
        "colab": {
          "base_uri": "https://localhost:8080/"
        },
        "id": "14J5nER2V0VA",
        "outputId": "94001f56-ee6d-4774-e446-b57fbd3e5573"
      },
      "execution_count": null,
      "outputs": [
        {
          "output_type": "execute_result",
          "data": {
            "text/plain": [
              "tensor([3., 6., 9.])"
            ]
          },
          "metadata": {},
          "execution_count": 50
        }
      ]
    },
    {
      "cell_type": "code",
      "source": [
        "float_16 = float_32.type(torch.float16)\n",
        "float_16"
      ],
      "metadata": {
        "colab": {
          "base_uri": "https://localhost:8080/"
        },
        "id": "ffizexgAaDs6",
        "outputId": "18954b13-94a8-4398-8e71-c81ea1125e3c"
      },
      "execution_count": null,
      "outputs": [
        {
          "output_type": "execute_result",
          "data": {
            "text/plain": [
              "tensor([3., 6., 9.], dtype=torch.float16)"
            ]
          },
          "metadata": {},
          "execution_count": 52
        }
      ]
    },
    {
      "cell_type": "code",
      "source": [
        "## Tensor attributes\n",
        "\n",
        "int_32_tensor = torch.tensor([2,4,6] ,dtype=torch.int32)\n",
        "int_32_tensor"
      ],
      "metadata": {
        "colab": {
          "base_uri": "https://localhost:8080/"
        },
        "id": "Z-yliA3VbP5l",
        "outputId": "a19b2e5c-799c-4f0b-c7ab-251bf193b191"
      },
      "execution_count": null,
      "outputs": [
        {
          "output_type": "execute_result",
          "data": {
            "text/plain": [
              "tensor([2, 4, 6], dtype=torch.int32)"
            ]
          },
          "metadata": {},
          "execution_count": 53
        }
      ]
    },
    {
      "cell_type": "code",
      "source": [
        "## getting information from the tensors (tensor attributes)\n",
        "\n",
        "## datatype - tenor.dtype\n",
        "## shape - tensor.shape\n",
        "## device - tensor.device\n",
        "some_tensor = torch.rand(3,4)\n",
        "print(some_tensor)\n",
        "print(f\"datatype of tensor : {some_tensor.dtype}\")\n",
        "print(f\"shape of tensor : {some_tensor.shape}\")\n",
        "print(f\"device of tensor : {some_tensor.device}\")\n",
        "\n"
      ],
      "metadata": {
        "colab": {
          "base_uri": "https://localhost:8080/"
        },
        "id": "qE3SrkXZHt2T",
        "outputId": "b7f3ad7d-70fd-4847-b085-ab48f0009c1e"
      },
      "execution_count": 3,
      "outputs": [
        {
          "output_type": "stream",
          "name": "stdout",
          "text": [
            "tensor([[0.6744, 0.0170, 0.1936, 0.5063],\n",
            "        [0.3589, 0.2443, 0.4098, 0.6870],\n",
            "        [0.9800, 0.0961, 0.9857, 0.5532]])\n",
            "datatype of tensor : torch.float32\n",
            "shape of tensor : torch.Size([3, 4])\n",
            "device of tensor : cpu\n"
          ]
        }
      ]
    },
    {
      "cell_type": "markdown",
      "source": [
        "## Manipulation tensors\n",
        "\n",
        "Tensors operations include:\n",
        "\n",
        "* Addition\n",
        "* Substraction\n",
        "* Multiplication\n",
        "* Division\n",
        "* Matrix Multiplication"
      ],
      "metadata": {
        "id": "ji33zwP2MYlg"
      }
    },
    {
      "cell_type": "code",
      "source": [
        "#create a tensor\n",
        "tensor = torch.tensor([1,2,3])\n",
        "\n",
        "## addition\n",
        "tensor + 10\n"
      ],
      "metadata": {
        "colab": {
          "base_uri": "https://localhost:8080/"
        },
        "id": "ZQuzGYpcLoeY",
        "outputId": "985a352c-42e0-4c00-dd0e-3307ea28cc0f"
      },
      "execution_count": 3,
      "outputs": [
        {
          "output_type": "execute_result",
          "data": {
            "text/plain": [
              "tensor([11, 12, 13])"
            ]
          },
          "metadata": {},
          "execution_count": 3
        }
      ]
    },
    {
      "cell_type": "code",
      "source": [
        "## multiplication\n",
        "tensor = tensor * 10\n",
        "tensor"
      ],
      "metadata": {
        "colab": {
          "base_uri": "https://localhost:8080/"
        },
        "id": "FZmHmQNBeohX",
        "outputId": "fc934838-9f55-452c-b651-9a2e0c1d599a"
      },
      "execution_count": 7,
      "outputs": [
        {
          "output_type": "execute_result",
          "data": {
            "text/plain": [
              "tensor([100, 200, 300])"
            ]
          },
          "metadata": {},
          "execution_count": 7
        }
      ]
    },
    {
      "cell_type": "code",
      "source": [
        "## subtraction\n",
        "tensor -10"
      ],
      "metadata": {
        "colab": {
          "base_uri": "https://localhost:8080/"
        },
        "id": "kGFcGZePe0ng",
        "outputId": "3c79a038-918f-436d-af9a-132ccd27564d"
      },
      "execution_count": 6,
      "outputs": [
        {
          "output_type": "execute_result",
          "data": {
            "text/plain": [
              "tensor([ 0, 10, 20])"
            ]
          },
          "metadata": {},
          "execution_count": 6
        }
      ]
    },
    {
      "cell_type": "code",
      "source": [
        "# tryout pytorch inbuilt functions\n",
        "\n",
        "torch.mul(tensor[0] , 100)\n",
        "# addition\n",
        "print(tensor.add(10))"
      ],
      "metadata": {
        "colab": {
          "base_uri": "https://localhost:8080/"
        },
        "id": "L4Amd2T8fHjM",
        "outputId": "01b23acb-16d2-493b-d326-89e6a682b6ae"
      },
      "execution_count": 12,
      "outputs": [
        {
          "output_type": "stream",
          "name": "stdout",
          "text": [
            "tensor([110, 210, 310])\n"
          ]
        }
      ]
    },
    {
      "cell_type": "markdown",
      "source": [
        "### Matrix Multiplication\n",
        "\n",
        "Two main ways of performing multiplication is neural network and the deep learning ▶\n",
        "\n",
        "1. Element-wise multiplication\n",
        "\n",
        "2. Matric multiplication (dot product)\n",
        "\n",
        "there are two main rules that performing matrix multiplication needs to satisfy ▶\n",
        "\n",
        "1. the inner dimensions must match :\n",
        "\n",
        "* `(3,2) @ (3,2)` will not work\n",
        "* `(3,2) @ (2,3)` will work\n",
        "* `(2,3) @ (3,2)` will work\n",
        "2. The result matrix will have the shape of outer dimensions :\n",
        "* `(2,3) @ (3,2)` -> ndim `(2,2)`\n",
        "* `(3,2) @ (2,3)` -> ndim `(3,3)`\n",
        "❗here the @ is matmul\n",
        "\n"
      ],
      "metadata": {
        "id": "_BWO1sNefvgy"
      }
    },
    {
      "cell_type": "code",
      "source": [
        "## Element wise matrix multiplication\n",
        "tensor1 = torch.tensor([1,3,5])\n",
        "print(tensor1)\n",
        "print(f\"Element wise Mul : {tensor1 * tensor1}\" )"
      ],
      "metadata": {
        "colab": {
          "base_uri": "https://localhost:8080/"
        },
        "id": "v_5ghfrGfrio",
        "outputId": "8fd2696f-c3f4-4dae-cc65-daf0c2118017"
      },
      "execution_count": 16,
      "outputs": [
        {
          "output_type": "stream",
          "name": "stdout",
          "text": [
            "tensor([1, 3, 5])\n",
            "Element wise Mul : tensor([ 1,  9, 25])\n"
          ]
        }
      ]
    },
    {
      "cell_type": "code",
      "source": [
        "# matrix multiplication\n",
        "torch.matmul(tensor1,tensor1)"
      ],
      "metadata": {
        "colab": {
          "base_uri": "https://localhost:8080/"
        },
        "id": "gCOz9hzzhkNe",
        "outputId": "52e7d2e0-8823-4ed8-f7d3-6a5abac2b2b8"
      },
      "execution_count": 17,
      "outputs": [
        {
          "output_type": "execute_result",
          "data": {
            "text/plain": [
              "tensor(35)"
            ]
          },
          "metadata": {},
          "execution_count": 17
        }
      ]
    },
    {
      "cell_type": "code",
      "source": [
        "%%time\n",
        "t = torch.tensor([1,2,3])\n",
        "torch.matmul(t ,t)"
      ],
      "metadata": {
        "colab": {
          "base_uri": "https://localhost:8080/"
        },
        "id": "YXYE2fmli4eu",
        "outputId": "bc6cda00-bec9-47ec-b277-f041614c5917"
      },
      "execution_count": 18,
      "outputs": [
        {
          "output_type": "stream",
          "name": "stdout",
          "text": [
            "CPU times: user 224 µs, sys: 0 ns, total: 224 µs\n",
            "Wall time: 192 µs\n"
          ]
        },
        {
          "output_type": "execute_result",
          "data": {
            "text/plain": [
              "tensor(14)"
            ]
          },
          "metadata": {},
          "execution_count": 18
        }
      ]
    },
    {
      "cell_type": "code",
      "source": [
        "t1 = torch.matmul(torch.rand(3,2) , torch.rand(2,3))\n",
        "print(f\"{t1} \\n shape : {t1.shape}\")"
      ],
      "metadata": {
        "colab": {
          "base_uri": "https://localhost:8080/"
        },
        "id": "0fUis6vmln1p",
        "outputId": "c0caeb3d-40c2-4e07-a4bb-1ce92641123b"
      },
      "execution_count": 20,
      "outputs": [
        {
          "output_type": "stream",
          "name": "stdout",
          "text": [
            "tensor([[0.3649, 0.1432, 0.1492],\n",
            "        [1.2050, 0.4854, 0.3935],\n",
            "        [0.7411, 0.2913, 0.3004]]) \n",
            " shape : torch.Size([3, 3])\n"
          ]
        }
      ]
    },
    {
      "cell_type": "code",
      "source": [
        "## torch.mm(ten1 , ten2) `it is alias of torch.matmul`\n",
        "\n",
        "## to transpose the tensor we use var.T\n",
        "ten_b = torch.tensor([[1,2],[2,3],[3,4]])\n",
        "\n",
        "print(torch.matmul(ten_b , ten_b.T))"
      ],
      "metadata": {
        "colab": {
          "base_uri": "https://localhost:8080/"
        },
        "id": "vqBpzEyxo5G9",
        "outputId": "4882d5c3-87f5-4454-a020-3a4c2c4ebaf5"
      },
      "execution_count": 27,
      "outputs": [
        {
          "output_type": "stream",
          "name": "stdout",
          "text": [
            "tensor([[ 5,  8, 11],\n",
            "        [ 8, 13, 18],\n",
            "        [11, 18, 25]])\n"
          ]
        }
      ]
    },
    {
      "cell_type": "code",
      "source": [
        "tensor  = torch.rand(size=(3,2))\n",
        "tensor1 = torch.rand(size=(3,2))\n",
        "print(tensor,  \"\\n\" ,tensor1)\n",
        "\n",
        "print(f\"the original shape of the tensors is {tensor.shape} and {tensor1.shape}\")\n",
        "print(f\"the tensors modification for matrix multiplication is {tensor.shape} and {tensor1.T.shape}\")\n",
        "print(f\"the multiplication of {tensor.shape} and {tensor1.T.shape} is : \\n\")\n",
        "print(f\"{torch.matmul(tensor , tensor1.T)}\")\n",
        "output = torch.matmul(tensor , tensor1.T)\n",
        "print(f\"the shape of the output is {output.shape}\")"
      ],
      "metadata": {
        "colab": {
          "base_uri": "https://localhost:8080/"
        },
        "id": "fN5eES3qsjrL",
        "outputId": "48a9680a-ecc0-44b9-baea-a3e8d79a9f07"
      },
      "execution_count": 30,
      "outputs": [
        {
          "output_type": "stream",
          "name": "stdout",
          "text": [
            "tensor([[0.4009, 0.1354],\n",
            "        [0.3331, 0.3647],\n",
            "        [0.7286, 0.2597]]) \n",
            " tensor([[0.7318, 0.1098],\n",
            "        [0.2383, 0.6099],\n",
            "        [0.2998, 0.9937]])\n",
            "the original shape of the tensors is torch.Size([3, 2]) and torch.Size([3, 2])\n",
            "the tensors modification for matrix multiplication is torch.Size([3, 2]) and torch.Size([2, 3])\n",
            "the multiplication of torch.Size([3, 2]) and torch.Size([2, 3]) is : \n",
            "\n",
            "tensor([[0.3082, 0.1781, 0.2547],\n",
            "        [0.2838, 0.3018, 0.4622],\n",
            "        [0.5617, 0.3321, 0.4765]])\n",
            "the shape of the output is torch.Size([3, 3])\n"
          ]
        }
      ]
    },
    {
      "cell_type": "markdown",
      "source": [
        "## Finding the min, max, mean , sum , etc(tensor aggregation)\n"
      ],
      "metadata": {
        "id": "7aEJh_KQvW3e"
      }
    },
    {
      "cell_type": "code",
      "source": [
        "#create a tensor\n",
        "x = torch.arange(0,100,10)\n",
        "x"
      ],
      "metadata": {
        "colab": {
          "base_uri": "https://localhost:8080/"
        },
        "id": "s7YeJuZ8vVsU",
        "outputId": "24ca1fc6-fe37-4624-a623-46e0f7b6d827"
      },
      "execution_count": 32,
      "outputs": [
        {
          "output_type": "execute_result",
          "data": {
            "text/plain": [
              "tensor([ 0, 10, 20, 30, 40, 50, 60, 70, 80, 90])"
            ]
          },
          "metadata": {},
          "execution_count": 32
        }
      ]
    },
    {
      "cell_type": "code",
      "source": [
        "# find the minimum\n",
        "\n",
        "torch.min(x ) , x.min()"
      ],
      "metadata": {
        "colab": {
          "base_uri": "https://localhost:8080/"
        },
        "id": "VreDxAAuvwGN",
        "outputId": "c30769ac-3061-4c35-eeac-47f156023e93"
      },
      "execution_count": 33,
      "outputs": [
        {
          "output_type": "execute_result",
          "data": {
            "text/plain": [
              "(tensor(0), tensor(0))"
            ]
          },
          "metadata": {},
          "execution_count": 33
        }
      ]
    },
    {
      "cell_type": "code",
      "source": [
        "#find the maximum\n",
        "\n",
        "torch.max(x) , x.max()"
      ],
      "metadata": {
        "colab": {
          "base_uri": "https://localhost:8080/"
        },
        "id": "cnwJQBy8v4Mn",
        "outputId": "d0d38d3c-ddea-4a71-85a8-77b982d4d2e6"
      },
      "execution_count": 36,
      "outputs": [
        {
          "output_type": "execute_result",
          "data": {
            "text/plain": [
              "(tensor(90), tensor(90))"
            ]
          },
          "metadata": {},
          "execution_count": 36
        }
      ]
    },
    {
      "cell_type": "code",
      "source": [
        "# finding the mean - note: torch.mean() requires a tensor of float32 to work\n",
        "\n",
        "torch.mean(x.type(torch.float32)) , x.type(torch.float32).mean()"
      ],
      "metadata": {
        "colab": {
          "base_uri": "https://localhost:8080/"
        },
        "id": "iIOTgD2uwFyX",
        "outputId": "26f75a1a-4177-4d77-ff3a-a4058d696c9b"
      },
      "execution_count": 35,
      "outputs": [
        {
          "output_type": "execute_result",
          "data": {
            "text/plain": [
              "(tensor(45.), tensor(45.))"
            ]
          },
          "metadata": {},
          "execution_count": 35
        }
      ]
    },
    {
      "cell_type": "code",
      "source": [
        "# find the sum\n",
        "torch.sum(x) , x.sum()"
      ],
      "metadata": {
        "colab": {
          "base_uri": "https://localhost:8080/"
        },
        "id": "-AcV_iLTwiBs",
        "outputId": "f647e0ee-2197-483e-9912-9d2cbd4983c5"
      },
      "execution_count": 37,
      "outputs": [
        {
          "output_type": "execute_result",
          "data": {
            "text/plain": [
              "(tensor(450), tensor(450))"
            ]
          },
          "metadata": {},
          "execution_count": 37
        }
      ]
    },
    {
      "cell_type": "code",
      "source": [
        "# finding the positional min and max or arg max and arg min\n",
        "\n",
        "## find the position in tensor that has minimum with arg min\n",
        "print(x.argmin())\n",
        "\n",
        "##find the position in tensor that has maximum with arg max\n",
        "print(x.argmax())"
      ],
      "metadata": {
        "colab": {
          "base_uri": "https://localhost:8080/"
        },
        "id": "Sxmmz6l_wryM",
        "outputId": "8568523a-c0e8-4744-8a49-d488c04b5e64"
      },
      "execution_count": 39,
      "outputs": [
        {
          "output_type": "stream",
          "name": "stdout",
          "text": [
            "tensor(0)\n",
            "tensor(9)\n"
          ]
        }
      ]
    },
    {
      "cell_type": "markdown",
      "source": [
        "## reshapeing , stacking , squeezing and unsqueezinf tensors\n",
        "\n",
        "* reshaping - reshapes an input tensor to a defined shape\n",
        "* view - Return a view of an input tensor of certain shape but keep the same memory as the original tensor\n",
        "* stacking - combine multiple stacks on top of each other (vstack) or side by side (hstack)"
      ],
      "metadata": {
        "id": "dEVJgBJVAosG"
      }
    },
    {
      "cell_type": "code",
      "source": [],
      "metadata": {
        "id": "_J5zhHzHAmPW"
      },
      "execution_count": null,
      "outputs": []
    }
  ]
}